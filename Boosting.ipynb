{
 "cells": [
  {
   "cell_type": "code",
   "execution_count": 1,
   "id": "e0bbe879",
   "metadata": {},
   "outputs": [],
   "source": [
    "# CatBoost\n",
    "\n",
    "!pip install seaborn catboost -q\n",
    "\n",
    "import numpy as np\n",
    "import pandas as pd"
   ]
  },
  {
   "cell_type": "code",
   "execution_count": 2,
   "id": "81397d92",
   "metadata": {},
   "outputs": [],
   "source": [
    "path = \"C:/Users/Kate/Downloads/train.csv\"\n",
    "train = pd.read_csv(path)"
   ]
  },
  {
   "cell_type": "code",
   "execution_count": 3,
   "id": "e600df89",
   "metadata": {},
   "outputs": [
    {
     "name": "stdout",
     "output_type": "stream",
     "text": [
      "cat_features ['model', 'car_type', 'fuel_type']\n",
      "num_features 11\n",
      "targets ['target_class', 'target_reg']\n"
     ]
    }
   ],
   "source": [
    "cat_features = [\"model\", \"car_type\", \"fuel_type\"]\n",
    "targets = [\"target_class\", \"target_reg\"]\n",
    "features2drop = [\"car_id\"] \n",
    "\n",
    "filtered_features = [i for i in train.columns if (i not in targets and i not in features2drop)]\n",
    "num_features = [i for i in filtered_features if i not in cat_features]\n",
    "\n",
    "print(\"cat_features\", cat_features)\n",
    "print(\"num_features\", len(num_features))\n",
    "print(\"targets\", targets)\n",
    "\n",
    "for c in cat_features:  # Избавлеямся от NaN'ов\n",
    "    train[c] = train[c].astype(str)"
   ]
  },
  {
   "cell_type": "code",
   "execution_count": 4,
   "id": "6105ea1e",
   "metadata": {},
   "outputs": [],
   "source": [
    "from sklearn.model_selection import train_test_split\n",
    "\n",
    "X = train[filtered_features].drop(targets, axis=1, errors=\"ignore\")\n",
    "y = train[\"target_reg\"]\n",
    "X_train, X_test, y_train, y_test = train_test_split(X, y, test_size=0.2, random_state=42)"
   ]
  },
  {
   "cell_type": "code",
   "execution_count": 27,
   "id": "1f1e9b4c",
   "metadata": {},
   "outputs": [
    {
     "name": "stdout",
     "output_type": "stream",
     "text": [
      "Learning rate set to 0.045195\n",
      "0:\tlearn: 17.1862834\ttotal: 13.4ms\tremaining: 13.4s\n",
      "500:\tlearn: 7.8920293\ttotal: 6.07s\tremaining: 6.04s\n",
      "999:\tlearn: 6.0539782\ttotal: 12.2s\tremaining: 0us\n",
      "{'learn': {'RMSE': 6.053978188487934}}\n"
     ]
    }
   ],
   "source": [
    "from catboost import CatBoostClassifier, CatBoostRegressor, Pool\n",
    "\n",
    "model = CatBoostRegressor(\n",
    "    cat_features=cat_features, eval_metric=\"RMSE\"\n",
    ")\n",
    "\n",
    "model.fit(\n",
    "    X_train,\n",
    "    y_train,\n",
    "    verbose=500,\n",
    "    plot=False,\n",
    ")\n",
    "\n",
    "print(model.best_score_)"
   ]
  },
  {
   "cell_type": "code",
   "execution_count": 45,
   "id": "7c0e31bc",
   "metadata": {},
   "outputs": [
    {
     "name": "stdout",
     "output_type": "stream",
     "text": [
      "0:\tlearn: 17.4468389\ttotal: 1.78ms\tremaining: 8.88s\n",
      "500:\tlearn: 9.9624447\ttotal: 683ms\tremaining: 6.13s\n",
      "1000:\tlearn: 8.9463974\ttotal: 1.37s\tremaining: 5.48s\n",
      "1500:\tlearn: 8.1432940\ttotal: 2.06s\tremaining: 4.81s\n",
      "2000:\tlearn: 7.4925844\ttotal: 2.87s\tremaining: 4.3s\n",
      "2500:\tlearn: 6.9422285\ttotal: 3.63s\tremaining: 3.62s\n",
      "3000:\tlearn: 6.4819532\ttotal: 4.36s\tremaining: 2.9s\n",
      "3500:\tlearn: 6.0339779\ttotal: 5.11s\tremaining: 2.19s\n",
      "4000:\tlearn: 5.6590537\ttotal: 5.85s\tremaining: 1.46s\n",
      "4500:\tlearn: 5.3730022\ttotal: 6.53s\tremaining: 724ms\n",
      "4999:\tlearn: 5.0874696\ttotal: 7.23s\tremaining: 0us\n",
      "{'learn': {'RMSE': 5.087469568640063}}\n"
     ]
    }
   ],
   "source": [
    "from catboost import CatBoostClassifier, CatBoostRegressor, Pool\n",
    "\n",
    "# Тюнинг гиперпараметров модели\n",
    "\n",
    "cbr = CatBoostRegressor(\n",
    "        depth=4,\n",
    "        iterations=5000,\n",
    "        learning_rate=0.09,   \n",
    "        cat_features=cat_features,\n",
    "        colsample_bylevel=0.098,\n",
    "        subsample=0.95,)\n",
    "\n",
    "cbr.fit(\n",
    "        X_train,\n",
    "        y_train,\n",
    "        verbose=500,\n",
    "        plot=False)\n",
    "\n",
    "\n",
    "print(cbr.best_score_)"
   ]
  },
  {
   "cell_type": "code",
   "execution_count": 65,
   "id": "99712e49",
   "metadata": {},
   "outputs": [],
   "source": [
    "# LightGBM\n",
    "\n",
    "!pip install lightgbm -q\n",
    "\n",
    "import lightgbm as lgb\n",
    "\n",
    "df = pd.read_csv(\"train.csv\")\n",
    "cat_cols = [\"car_type\", \"fuel_type\", \"model\"]\n",
    "drop_cols = [\"car_id\", \"target_reg\", \"target_class\"]\n",
    "\n",
    "X = df.drop(drop_cols, axis=1)\n",
    "y = df[\"target_class\"]"
   ]
  },
  {
   "cell_type": "code",
   "execution_count": 66,
   "id": "a1b7282b",
   "metadata": {},
   "outputs": [],
   "source": [
    "from sklearn.preprocessing import LabelEncoder\n",
    "\n",
    "le = LabelEncoder()\n",
    "for col in cat_cols:\n",
    "    X[col] = le.fit_transform(X[col])\n",
    "\n",
    "le_tar = LabelEncoder()\n",
    "y = le_tar.fit_transform(y)"
   ]
  },
  {
   "cell_type": "code",
   "execution_count": 67,
   "id": "e9efe390",
   "metadata": {},
   "outputs": [],
   "source": [
    "X_train, X_test, y_train, y_test = train_test_split(X, y, test_size=0.2, random_state=42)"
   ]
  },
  {
   "cell_type": "code",
   "execution_count": 68,
   "id": "9b69df69",
   "metadata": {},
   "outputs": [],
   "source": [
    "from lightgbm import Dataset\n",
    "\n",
    "train_data = Dataset(\n",
    "    X_train,\n",
    "    y_train,\n",
    "    categorical_feature=cat_cols,\n",
    "    free_raw_data=False,\n",
    ")\n",
    "\n",
    "val_data = Dataset(\n",
    "    X_test,\n",
    "    y_test,\n",
    "    categorical_feature=cat_cols,\n",
    "    free_raw_data=False,\n",
    ")"
   ]
  },
  {
   "cell_type": "code",
   "execution_count": 69,
   "id": "3caa7ee3",
   "metadata": {},
   "outputs": [
    {
     "name": "stdout",
     "output_type": "stream",
     "text": [
      "[LightGBM] [Info] Auto-choosing col-wise multi-threading, the overhead of testing was 0.000587 seconds.\n",
      "You can set `force_col_wise=true` to remove the overhead.\n",
      "[LightGBM] [Info] Total Bins 1634\n",
      "[LightGBM] [Info] Number of data points in the train set: 1869, number of used features: 13\n",
      "[LightGBM] [Info] Start training from score 3.867844\n",
      "defaultdict(<class 'collections.OrderedDict'>, {'valid_0': OrderedDict([('rmse', 1.066804001969111)])})\n"
     ]
    }
   ],
   "source": [
    "from lightgbm import LGBMClassifier, train ,LGBMRegressor\n",
    "\n",
    "\n",
    "reg = LGBMRegressor(metric=\"RMSE\")\n",
    "\n",
    "reg.fit(\n",
    "    X_train,\n",
    "    y_train,\n",
    "    eval_set=[\n",
    "        (X_test, y_test),\n",
    "    ],\n",
    ")\n",
    "print(reg.best_score_)"
   ]
  },
  {
   "cell_type": "code",
   "execution_count": 70,
   "id": "63b63e66",
   "metadata": {},
   "outputs": [
    {
     "name": "stdout",
     "output_type": "stream",
     "text": [
      "[LightGBM] [Info] Auto-choosing col-wise multi-threading, the overhead of testing was 0.000437 seconds.\n",
      "You can set `force_col_wise=true` to remove the overhead.\n",
      "[LightGBM] [Info] Total Bins 1636\n",
      "[LightGBM] [Info] Number of data points in the train set: 1869, number of used features: 13\n",
      "[LightGBM] [Info] Start training from score 3.867844\n",
      "defaultdict(<class 'collections.OrderedDict'>, {'valid_0': OrderedDict([('rmse', 1.0586094452310433)])})\n"
     ]
    }
   ],
   "source": [
    "# Тюнинг гиперпараметров модели\n",
    "\n",
    "reg = LGBMRegressor(\n",
    "    n_estimators=40,\n",
    "    cat_feature=[0, 1, 2],\n",
    "    metric=\"RMSE\")\n",
    "\n",
    "reg.fit(\n",
    "    X_train,\n",
    "    y_train,\n",
    "    eval_set=[\n",
    "        (X_test, y_test),\n",
    "    ],\n",
    ")\n",
    "\n",
    "print(reg.best_score_)"
   ]
  },
  {
   "cell_type": "code",
   "execution_count": 13,
   "id": "0d5f1c7f",
   "metadata": {},
   "outputs": [],
   "source": [
    "# XGBoost\n",
    "!pip install xgboost -q\n",
    "import xgboost as xgb\n",
    "import warnings; warnings.filterwarnings(\"ignore\")"
   ]
  },
  {
   "cell_type": "code",
   "execution_count": 14,
   "id": "5ec2cdfa",
   "metadata": {},
   "outputs": [],
   "source": [
    "trainDF = pd.read_csv(\"C:/Users/Kate/Downloads/train.csv\")\n",
    "drop_cols = ['car_id', 'target_reg', 'target_class']\n",
    "cat_cols = ['car_type', 'fuel_type', 'model']\n",
    "\n",
    "X = trainDF.drop(drop_cols, axis=1)\n",
    "y = trainDF['target_reg']\n",
    "\n",
    " \n",
    "for col in cat_cols:\n",
    "    X[col] = X[col].astype('category')\n",
    "\n",
    "X_train, X_test, y_train, y_test = train_test_split(X, y, test_size=0.2, random_state=42)"
   ]
  },
  {
   "cell_type": "code",
   "execution_count": 15,
   "id": "3927a77d",
   "metadata": {},
   "outputs": [
    {
     "name": "stdout",
     "output_type": "stream",
     "text": [
      "[0]\tvalidation_0-rmse:15.73818\tvalidation_0-mean_poisson_deviance:4.83291\n",
      "[3]\tvalidation_0-rmse:13.04271\tvalidation_0-mean_poisson_deviance:3.25132\n",
      "[6]\tvalidation_0-rmse:12.64687\tvalidation_0-mean_poisson_deviance:3.07632\n",
      "[9]\tvalidation_0-rmse:12.65160\tvalidation_0-mean_poisson_deviance:3.07671\n",
      "[12]\tvalidation_0-rmse:12.67780\tvalidation_0-mean_poisson_deviance:3.08867\n",
      "[15]\tvalidation_0-rmse:12.75195\tvalidation_0-mean_poisson_deviance:3.13961\n",
      "[18]\tvalidation_0-rmse:12.88637\tvalidation_0-mean_poisson_deviance:3.20034\n"
     ]
    },
    {
     "data": {
      "text/plain": [
       "12.621295288019933"
      ]
     },
     "execution_count": 15,
     "metadata": {},
     "output_type": "execute_result"
    }
   ],
   "source": [
    "from sklearn.metrics import mean_poisson_deviance, mean_squared_error\n",
    "\n",
    "reg = xgb.XGBRegressor(tree_method=\"hist\",\n",
    "                       eval_metric = mean_poisson_deviance,\n",
    "                       enable_categorical=True,\n",
    "                       n_estimators=30, n_jobs=-1\n",
    ")\n",
    "reg.fit(X_train, y_train,\n",
    "        eval_set=[(X_test, y_test)],\n",
    "        early_stopping_rounds=10,\n",
    "        verbose=3)\n",
    "\n",
    "y_pred = reg.predict(X_test, iteration_range=(0, reg.best_iteration + 1))\n",
    "mean_squared_error(y_test, y_pred) ** 0.5"
   ]
  },
  {
   "cell_type": "code",
   "execution_count": 16,
   "id": "09620b2d",
   "metadata": {},
   "outputs": [
    {
     "name": "stdout",
     "output_type": "stream",
     "text": [
      "[0]\tvalidation_0-rmse:16.97257\tvalidation_0-mean_poisson_deviance:5.67316\n",
      "[3]\tvalidation_0-rmse:14.55563\tvalidation_0-mean_poisson_deviance:4.06194\n",
      "[6]\tvalidation_0-rmse:13.44591\tvalidation_0-mean_poisson_deviance:3.44482\n",
      "[9]\tvalidation_0-rmse:12.88900\tvalidation_0-mean_poisson_deviance:3.16361\n",
      "[12]\tvalidation_0-rmse:12.50357\tvalidation_0-mean_poisson_deviance:2.97651\n",
      "[15]\tvalidation_0-rmse:12.27803\tvalidation_0-mean_poisson_deviance:2.87298\n",
      "[18]\tvalidation_0-rmse:12.14974\tvalidation_0-mean_poisson_deviance:2.82255\n",
      "[21]\tvalidation_0-rmse:12.04237\tvalidation_0-mean_poisson_deviance:2.77504\n",
      "[24]\tvalidation_0-rmse:12.01053\tvalidation_0-mean_poisson_deviance:2.77109\n",
      "[27]\tvalidation_0-rmse:11.96352\tvalidation_0-mean_poisson_deviance:2.75434\n",
      "[30]\tvalidation_0-rmse:11.95310\tvalidation_0-mean_poisson_deviance:2.75635\n",
      "[33]\tvalidation_0-rmse:11.94365\tvalidation_0-mean_poisson_deviance:2.75827\n",
      "[36]\tvalidation_0-rmse:11.91017\tvalidation_0-mean_poisson_deviance:2.74676\n",
      "[39]\tvalidation_0-rmse:11.90602\tvalidation_0-mean_poisson_deviance:2.74654\n"
     ]
    },
    {
     "data": {
      "text/plain": [
       "11.90601931806027"
      ]
     },
     "execution_count": 16,
     "metadata": {},
     "output_type": "execute_result"
    }
   ],
   "source": [
    "# Тюнинг гиперпараметров модели\n",
    "\n",
    "reg = xgb.XGBRegressor(tree_method=\"hist\",\n",
    "                       eval_metric = mean_poisson_deviance,\n",
    "                       enable_categorical=True,\n",
    "                       n_estimators=40, \n",
    "                       n_jobs=-1,\n",
    "                       min_child_weight=32,\n",
    "                       max_bin=128,\n",
    "                       reg_lambda=275,)\n",
    "\n",
    "reg.fit(X_train, y_train,\n",
    "        eval_set=[(X_test, y_test)],\n",
    "        early_stopping_rounds=10,\n",
    "        verbose=3)\n",
    "\n",
    "y_pred = reg.predict(X_test, iteration_range=(0, reg.best_iteration + 1))\n",
    "mean_squared_error(y_test, y_pred) ** 0.5"
   ]
  },
  {
   "cell_type": "code",
   "execution_count": null,
   "id": "44ab043d",
   "metadata": {},
   "outputs": [],
   "source": []
  }
 ],
 "metadata": {
  "kernelspec": {
   "display_name": "Python 3 (ipykernel)",
   "language": "python",
   "name": "python3"
  },
  "language_info": {
   "codemirror_mode": {
    "name": "ipython",
    "version": 3
   },
   "file_extension": ".py",
   "mimetype": "text/x-python",
   "name": "python",
   "nbconvert_exporter": "python",
   "pygments_lexer": "ipython3",
   "version": "3.11.5"
  }
 },
 "nbformat": 4,
 "nbformat_minor": 5
}
