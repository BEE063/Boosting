{
 "cells": [
  {
   "cell_type": "code",
   "execution_count": 1,
   "id": "e0bbe879",
   "metadata": {},
   "outputs": [],
   "source": [
    "# CatBoost\n",
    "\n",
    "!pip install seaborn catboost -q\n",
    "\n",
    "import numpy as np\n",
    "import pandas as pd"
   ]
  },
  {
   "cell_type": "code",
   "execution_count": 2,
   "id": "81397d92",
   "metadata": {},
   "outputs": [],
   "source": [
    "path = \"train.csv\"\n",
    "train = pd.read_csv(path)"
   ]
  },
  {
   "cell_type": "code",
   "execution_count": 3,
   "id": "e600df89",
   "metadata": {},
   "outputs": [
    {
     "name": "stdout",
     "output_type": "stream",
     "text": [
      "cat_features ['model', 'car_type', 'fuel_type']\n",
      "num_features 11\n",
      "targets ['target_class', 'target_reg']\n"
     ]
    }
   ],
   "source": [
    "cat_features = [\"model\", \"car_type\", \"fuel_type\"]\n",
    "targets = [\"target_class\", \"target_reg\"]\n",
    "features2drop = [\"car_id\"] \n",
    "\n",
    "filtered_features = [i for i in train.columns if (i not in targets and i not in features2drop)]\n",
    "num_features = [i for i in filtered_features if i not in cat_features]\n",
    "\n",
    "print(\"cat_features\", cat_features)\n",
    "print(\"num_features\", len(num_features))\n",
    "print(\"targets\", targets)\n",
    "\n",
    "for c in cat_features:\n",
    "    train[c] = train[c].astype(str)"
   ]
  },
  {
   "cell_type": "code",
   "execution_count": 4,
   "id": "6105ea1e",
   "metadata": {},
   "outputs": [],
   "source": [
    "from sklearn.model_selection import train_test_split\n",
    "\n",
    "X = train[filtered_features].drop(targets, axis=1, errors=\"ignore\")\n",
    "y = train[\"target_reg\"]\n",
    "X_train, X_test, y_train, y_test = train_test_split(X, y, test_size=0.2, random_state=42)"
   ]
  },
  {
   "cell_type": "code",
   "execution_count": 5,
   "id": "1f1e9b4c",
   "metadata": {},
   "outputs": [
    {
     "name": "stdout",
     "output_type": "stream",
     "text": [
      "Learning rate set to 0.056174\n",
      "0:\tlearn: 17.1114797\ttest: 17.8473672\tbest: 17.8473672 (0)\ttotal: 175ms\tremaining: 2m 54s\n",
      "500:\tlearn: 7.3441758\ttest: 12.4335676\tbest: 12.1585875 (158)\ttotal: 6.6s\tremaining: 6.58s\n",
      "999:\tlearn: 5.2987756\ttest: 12.6087656\tbest: 12.1585875 (158)\ttotal: 13s\tremaining: 0us\n",
      "\n",
      "bestTest = 12.15858747\n",
      "bestIteration = 158\n",
      "\n",
      "Shrink model to first 159 iterations.\n",
      "{'learn': {'RMSE': 5.29877563377732}, 'validation': {'RMSE': 12.158587472625873}}\n"
     ]
    }
   ],
   "source": [
    "from catboost import CatBoostClassifier, CatBoostRegressor, Pool\n",
    "\n",
    "model = CatBoostRegressor(\n",
    "    cat_features=cat_features, eval_metric=\"RMSE\"\n",
    ")\n",
    "\n",
    "model.fit(\n",
    "    X_train,\n",
    "    y_train,\n",
    "    eval_set=(X_test, y_test),\n",
    "    verbose=500,\n",
    "    plot=False,\n",
    ")\n",
    "\n",
    "print(model.best_score_)"
   ]
  },
  {
   "cell_type": "code",
   "execution_count": 6,
   "id": "7c0e31bc",
   "metadata": {},
   "outputs": [
    {
     "name": "stdout",
     "output_type": "stream",
     "text": [
      "0:\tlearn: 16.8709193\ttest: 17.5903213\tbest: 17.5903213 (0)\ttotal: 10.9ms\tremaining: 10.9s\n",
      "500:\tlearn: 8.6450532\ttest: 12.2367538\tbest: 11.9853255 (111)\ttotal: 3.93s\tremaining: 3.91s\n",
      "999:\tlearn: 7.2909046\ttest: 12.3802641\tbest: 11.9853255 (111)\ttotal: 7.82s\tremaining: 0us\n",
      "\n",
      "bestTest = 11.98532547\n",
      "bestIteration = 111\n",
      "\n",
      "Shrink model to first 112 iterations.\n",
      "{'learn': {'RMSE': 7.2909045759399325}, 'validation': {'RMSE': 11.985325469871208}}\n"
     ]
    }
   ],
   "source": [
    "from catboost import CatBoostClassifier, CatBoostRegressor, Pool\n",
    "\n",
    "# Тюнинг гиперпараметров модели\n",
    "\n",
    "cbr = CatBoostRegressor(\n",
    "        depth=4,\n",
    "        iterations=1000,\n",
    "        learning_rate=0.09,   \n",
    "        cat_features=cat_features,\n",
    "        colsample_bylevel=0.99,\n",
    "        max_bin=190,\n",
    "        l2_leaf_reg=5,\n",
    "        subsample=0.5,)\n",
    "\n",
    "cbr.fit(\n",
    "        X_train,\n",
    "        y_train,\n",
    "        eval_set=(X_test, y_test),\n",
    "        verbose=500,\n",
    "        plot=False)\n",
    "\n",
    "\n",
    "print(cbr.best_score_)"
   ]
  },
  {
   "cell_type": "code",
   "execution_count": 7,
   "id": "6d0f18a7",
   "metadata": {},
   "outputs": [],
   "source": [
    "test = pd.read_csv('test.csv')\n",
    "for c in cat_features:\n",
    "    test[c] = test[c].astype(str)\n",
    "    \n",
    "x_test = test[filtered_features].drop(targets, axis=1, errors=\"ignore\")\n",
    "\n",
    "y_pred = cbr.predict(x_test)\n",
    "CatBoostReg_result = pd.DataFrame({'car_id': test['car_id'], 'target_reg': y_pred})\n",
    "CatBoostReg_result.to_csv('CatBoostReg_result.csv')"
   ]
  },
  {
   "cell_type": "code",
   "execution_count": 8,
   "id": "99712e49",
   "metadata": {},
   "outputs": [],
   "source": [
    "# LightGBM\n",
    "\n",
    "!pip install lightgbm -q\n",
    "\n",
    "import lightgbm as lgb\n",
    "\n",
    "df = pd.read_csv(\"train.csv\")\n",
    "cat_cols = [\"car_type\", \"fuel_type\", \"model\"]\n",
    "drop_cols = [\"car_id\", \"target_reg\", \"target_class\"]\n",
    "\n",
    "X = df.drop(drop_cols, axis=1)\n",
    "y = df[\"target_reg\"]"
   ]
  },
  {
   "cell_type": "code",
   "execution_count": 9,
   "id": "a1b7282b",
   "metadata": {},
   "outputs": [],
   "source": [
    "from sklearn.preprocessing import LabelEncoder\n",
    "\n",
    "le = LabelEncoder()\n",
    "for col in cat_cols:\n",
    "    X[col] = le.fit_transform(X[col])"
   ]
  },
  {
   "cell_type": "code",
   "execution_count": 10,
   "id": "e9efe390",
   "metadata": {},
   "outputs": [],
   "source": [
    "X_train, X_test, y_train, y_test = train_test_split(X, y, test_size=0.2, random_state=42)"
   ]
  },
  {
   "cell_type": "code",
   "execution_count": 11,
   "id": "9b69df69",
   "metadata": {},
   "outputs": [],
   "source": [
    "from lightgbm import Dataset\n",
    "\n",
    "train_data = Dataset(\n",
    "    X_train,\n",
    "    y_train,\n",
    "    categorical_feature=cat_cols,\n",
    "    free_raw_data=False,\n",
    ")\n",
    "\n",
    "val_data = Dataset(\n",
    "    X_test,\n",
    "    y_test,\n",
    "    categorical_feature=cat_cols,\n",
    "    free_raw_data=False,\n",
    ")"
   ]
  },
  {
   "cell_type": "code",
   "execution_count": 12,
   "id": "3caa7ee3",
   "metadata": {},
   "outputs": [
    {
     "name": "stdout",
     "output_type": "stream",
     "text": [
      "[LightGBM] [Info] Auto-choosing col-wise multi-threading, the overhead of testing was 0.000155 seconds.\n",
      "You can set `force_col_wise=true` to remove the overhead.\n",
      "[LightGBM] [Info] Total Bins 1634\n",
      "[LightGBM] [Info] Number of data points in the train set: 1869, number of used features: 13\n",
      "[LightGBM] [Info] Start training from score 44.797913\n",
      "defaultdict(<class 'collections.OrderedDict'>, {'valid_0': OrderedDict([('rmse', 12.286649812737657)])})\n"
     ]
    }
   ],
   "source": [
    "from lightgbm import train ,LGBMRegressor\n",
    "\n",
    "\n",
    "reg = LGBMRegressor(metric = \"RMSE\")\n",
    "\n",
    "reg.fit(\n",
    "    X_train,\n",
    "    y_train,\n",
    "    eval_set=[\n",
    "        (X_test, y_test),\n",
    "    ],\n",
    ")\n",
    "print(reg.best_score_)"
   ]
  },
  {
   "cell_type": "code",
   "execution_count": 13,
   "id": "63b63e66",
   "metadata": {},
   "outputs": [
    {
     "name": "stdout",
     "output_type": "stream",
     "text": [
      "[LightGBM] [Info] Auto-choosing col-wise multi-threading, the overhead of testing was 0.000158 seconds.\n",
      "You can set `force_col_wise=true` to remove the overhead.\n",
      "[LightGBM] [Info] Total Bins 1636\n",
      "[LightGBM] [Info] Number of data points in the train set: 1869, number of used features: 13\n",
      "[LightGBM] [Info] Start training from score 44.797913\n",
      "defaultdict(<class 'collections.OrderedDict'>, {'valid_0': OrderedDict([('rmse', 11.980153054703948)])})\n"
     ]
    }
   ],
   "source": [
    "# Тюнинг гиперпараметров модели\n",
    "\n",
    "reg = LGBMRegressor(\n",
    "    n_estimators=40,\n",
    "    learning_rate = 0.09,\n",
    "    cat_feature=[0, 1, 2],\n",
    "    num_leaves = 8,\n",
    "    metric=\"RMSE\")\n",
    "\n",
    "reg.fit(\n",
    "    X_train,\n",
    "    y_train,\n",
    "    eval_set=[\n",
    "        (X_test, y_test),\n",
    "    ],\n",
    ")\n",
    "\n",
    "print(reg.best_score_)"
   ]
  },
  {
   "cell_type": "code",
   "execution_count": 14,
   "id": "ada35575",
   "metadata": {},
   "outputs": [],
   "source": [
    "test = pd.read_csv(\"test.csv\")\n",
    "\n",
    "drop_cols = [\"car_id\", \"target_class\"]\n",
    "x_test = test.drop(drop_cols, axis=1)\n",
    "\n",
    "for col in cat_cols:\n",
    "    x_test[col] = le.fit_transform(x_test[col])\n",
    "\n",
    "y_pred = reg.predict(x_test)\n",
    "LGBMReg_result = pd.DataFrame({'car_id': test['car_id'], 'target_reg': y_pred})\n",
    "LGBMReg_result.to_csv('LGBMReg_result.csv')"
   ]
  },
  {
   "cell_type": "code",
   "execution_count": 15,
   "id": "0d5f1c7f",
   "metadata": {},
   "outputs": [],
   "source": [
    "# XGBoost\n",
    "!pip install xgboost -q\n",
    "import xgboost as xgb\n",
    "import warnings; warnings.filterwarnings(\"ignore\")"
   ]
  },
  {
   "cell_type": "code",
   "execution_count": 16,
   "id": "5ec2cdfa",
   "metadata": {},
   "outputs": [],
   "source": [
    "trainDF = pd.read_csv(\"train.csv\")\n",
    "drop_cols = ['car_id', 'target_reg', 'target_class']\n",
    "cat_cols = ['car_type', 'fuel_type', 'model']\n",
    "\n",
    "X = trainDF.drop(drop_cols, axis=1)\n",
    "y = trainDF['target_reg']\n",
    "\n",
    " \n",
    "for col in cat_cols:\n",
    "    X[col] = X[col].astype('category')\n",
    "\n",
    "X_train, X_test, y_train, y_test = train_test_split(X, y, test_size=0.2, random_state=42)"
   ]
  },
  {
   "cell_type": "code",
   "execution_count": 17,
   "id": "3927a77d",
   "metadata": {},
   "outputs": [
    {
     "name": "stdout",
     "output_type": "stream",
     "text": [
      "[0]\tvalidation_0-rmse:15.73818\tvalidation_0-mean_poisson_deviance:4.83291\n",
      "[3]\tvalidation_0-rmse:13.04271\tvalidation_0-mean_poisson_deviance:3.25132\n",
      "[6]\tvalidation_0-rmse:12.64687\tvalidation_0-mean_poisson_deviance:3.07632\n",
      "[9]\tvalidation_0-rmse:12.65160\tvalidation_0-mean_poisson_deviance:3.07671\n",
      "[12]\tvalidation_0-rmse:12.67780\tvalidation_0-mean_poisson_deviance:3.08867\n",
      "[15]\tvalidation_0-rmse:12.75195\tvalidation_0-mean_poisson_deviance:3.13961\n",
      "[18]\tvalidation_0-rmse:12.88637\tvalidation_0-mean_poisson_deviance:3.20034\n"
     ]
    },
    {
     "data": {
      "text/plain": [
       "12.621295288019933"
      ]
     },
     "execution_count": 17,
     "metadata": {},
     "output_type": "execute_result"
    }
   ],
   "source": [
    "from sklearn.metrics import mean_poisson_deviance, mean_squared_error\n",
    "\n",
    "reg = xgb.XGBRegressor(tree_method=\"hist\",\n",
    "                       eval_metric = mean_poisson_deviance,\n",
    "                       enable_categorical=True,\n",
    "                       n_estimators=30, n_jobs=-1\n",
    ")\n",
    "reg.fit(X_train, y_train,\n",
    "        eval_set=[(X_test, y_test)],\n",
    "        early_stopping_rounds=10,\n",
    "        verbose=3)\n",
    "\n",
    "y_pred = reg.predict(X_test, iteration_range=(0, reg.best_iteration + 1))\n",
    "mean_squared_error(y_test, y_pred) ** 0.5"
   ]
  },
  {
   "cell_type": "code",
   "execution_count": 18,
   "id": "09620b2d",
   "metadata": {},
   "outputs": [
    {
     "name": "stdout",
     "output_type": "stream",
     "text": [
      "[0]\tvalidation_0-rmse:16.97257\tvalidation_0-mean_poisson_deviance:5.67316\n",
      "[3]\tvalidation_0-rmse:14.55563\tvalidation_0-mean_poisson_deviance:4.06194\n",
      "[6]\tvalidation_0-rmse:13.44591\tvalidation_0-mean_poisson_deviance:3.44482\n",
      "[9]\tvalidation_0-rmse:12.88900\tvalidation_0-mean_poisson_deviance:3.16361\n",
      "[12]\tvalidation_0-rmse:12.50357\tvalidation_0-mean_poisson_deviance:2.97651\n",
      "[15]\tvalidation_0-rmse:12.27803\tvalidation_0-mean_poisson_deviance:2.87298\n",
      "[18]\tvalidation_0-rmse:12.14974\tvalidation_0-mean_poisson_deviance:2.82255\n",
      "[21]\tvalidation_0-rmse:12.04237\tvalidation_0-mean_poisson_deviance:2.77504\n",
      "[24]\tvalidation_0-rmse:12.01053\tvalidation_0-mean_poisson_deviance:2.77109\n",
      "[27]\tvalidation_0-rmse:11.96352\tvalidation_0-mean_poisson_deviance:2.75434\n",
      "[30]\tvalidation_0-rmse:11.95310\tvalidation_0-mean_poisson_deviance:2.75635\n",
      "[33]\tvalidation_0-rmse:11.94365\tvalidation_0-mean_poisson_deviance:2.75827\n",
      "[36]\tvalidation_0-rmse:11.91017\tvalidation_0-mean_poisson_deviance:2.74676\n",
      "[39]\tvalidation_0-rmse:11.90602\tvalidation_0-mean_poisson_deviance:2.74654\n"
     ]
    },
    {
     "data": {
      "text/plain": [
       "11.90601931806027"
      ]
     },
     "execution_count": 18,
     "metadata": {},
     "output_type": "execute_result"
    }
   ],
   "source": [
    "# Тюнинг гиперпараметров модели\n",
    "\n",
    "reg = xgb.XGBRegressor(tree_method=\"hist\",\n",
    "                       eval_metric = mean_poisson_deviance,\n",
    "                       enable_categorical=True,\n",
    "                       n_estimators=40, \n",
    "                       n_jobs=-1,\n",
    "                       min_child_weight=32,\n",
    "                       max_bin=128,\n",
    "                       reg_lambda=275,)\n",
    "\n",
    "reg.fit(X_train, y_train,\n",
    "        eval_set=[(X_test, y_test)],\n",
    "        early_stopping_rounds=10,\n",
    "        verbose=3)\n",
    "\n",
    "y_pred = reg.predict(X_test, iteration_range=(0, reg.best_iteration + 1))\n",
    "mean_squared_error(y_test, y_pred) ** 0.5"
   ]
  },
  {
   "cell_type": "code",
   "execution_count": 19,
   "id": "44ab043d",
   "metadata": {},
   "outputs": [],
   "source": [
    "test = pd.read_csv('test.csv')\n",
    "\n",
    "drop_cols = ['car_id', 'target_class']\n",
    "x_test = test.drop(drop_cols, axis=1)\n",
    "\n",
    "for col in cat_cols:\n",
    "    x_test[col] = x_test[col].astype('category')\n",
    "\n",
    "y_pred = reg.predict(x_test)\n",
    "XGBReg_result = pd.DataFrame({'car_id': test['car_id'], 'target_reg': y_pred})\n",
    "XGBReg_result.to_csv('XGBReg_result.csv')"
   ]
  }
 ],
 "metadata": {
  "kernelspec": {
   "display_name": "Python 3 (ipykernel)",
   "language": "python",
   "name": "python3"
  },
  "language_info": {
   "codemirror_mode": {
    "name": "ipython",
    "version": 3
   },
   "file_extension": ".py",
   "mimetype": "text/x-python",
   "name": "python",
   "nbconvert_exporter": "python",
   "pygments_lexer": "ipython3",
   "version": "3.11.5"
  }
 },
 "nbformat": 4,
 "nbformat_minor": 5
}
